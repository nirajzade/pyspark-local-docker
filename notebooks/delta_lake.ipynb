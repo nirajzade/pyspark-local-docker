{
 "cells": [
  {
   "cell_type": "code",
   "execution_count": null,
   "id": "66e78774-ca5c-4f58-9260-76f6f54f17a9",
   "metadata": {},
   "outputs": [],
   "source": [
    "import pyspark\n",
    "from delta import *\n",
    "from datetime import datetime\n",
    "import pyspark.sql.types as T\n",
    "import pyspark.sql.functions as F"
   ]
  },
  {
   "cell_type": "code",
   "execution_count": null,
   "id": "15b769bb-6d1a-4cc0-a457-83ec7ba1da02",
   "metadata": {},
   "outputs": [],
   "source": [
    "builder = pyspark.sql.SparkSession.builder.appName(\"MyApp\") \\\n",
    "    .config(\"spark.sql.extensions\", \"io.delta.sql.DeltaSparkSessionExtension\") \\\n",
    "    .config(\"spark.sql.catalog.spark_catalog\", \"org.apache.spark.sql.delta.catalog.DeltaCatalog\")\n",
    "\n",
    "spark = configure_spark_with_delta_pip(builder).getOrCreate()"
   ]
  },
  {
   "cell_type": "code",
   "execution_count": null,
   "id": "4867779f-09e9-447f-aa5d-1928a117916b",
   "metadata": {},
   "outputs": [],
   "source": [
    "# Create sample data to write into a delta table\n",
    "\n",
    "schema = T.StructType([\n",
    "    T.StructField(\"id\", T.IntegerType(), False),\n",
    "    T.StructField(\"name\", T.StringType(), False),\n",
    "    T.StructField(\"address\", T.StringType(), False),\n",
    "])\n",
    "\n",
    "# Sample data\n",
    "effective_date = datetime(1990, 1, 1)\n",
    "end_date = datetime.today()\n",
    "\n",
    "table_data = [\n",
    "    (1, \"Alice\", \"Aliceland\"),\n",
    "    (2, \"Bob\", \"Bobland\"),\n",
    "]\n",
    "table_data_df = spark.createDataFrame(data=table_data, schema=schema)\n",
    "table_data_df.show(truncate=False)"
   ]
  },
  {
   "cell_type": "code",
   "execution_count": null,
   "id": "fa7e29ff-1436-42cf-8280-0aa9ea2a5896",
   "metadata": {},
   "outputs": [],
   "source": [
    "# Write df into a delta table\n",
    "(\n",
    "    table_data_df\n",
    "    .write\n",
    "    .format(\"delta\")\n",
    "    .mode(\"overwrite\")\n",
    "    .save(\"data/sample-delta-table\")\n",
    ")"
   ]
  },
  {
   "cell_type": "code",
   "execution_count": null,
   "id": "50f46ce3-ba40-4ba0-ab5f-224a064a925f",
   "metadata": {},
   "outputs": [],
   "source": [
    "# Read the previously written delta table\n",
    "\n",
    "df = spark.read.format(\"delta\").load(\"data/sample-delta-table\")\n",
    "df.show()"
   ]
  },
  {
   "cell_type": "code",
   "execution_count": null,
   "id": "406aae57-0a5b-4abc-85db-9e45403cece5",
   "metadata": {},
   "outputs": [],
   "source": []
  }
 ],
 "metadata": {
  "kernelspec": {
   "display_name": "Python 3 (ipykernel)",
   "language": "python",
   "name": "python3"
  },
  "language_info": {
   "codemirror_mode": {
    "name": "ipython",
    "version": 3
   },
   "file_extension": ".py",
   "mimetype": "text/x-python",
   "name": "python",
   "nbconvert_exporter": "python",
   "pygments_lexer": "ipython3",
   "version": "3.11.6"
  }
 },
 "nbformat": 4,
 "nbformat_minor": 5
}
